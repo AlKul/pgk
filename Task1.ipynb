{
 "cells": [
  {
   "cell_type": "markdown",
   "id": "6e60d922-6a48-4860-adbe-a514c04e1c3f",
   "metadata": {},
   "source": [
    "# Разархивируем"
   ]
  },
  {
   "cell_type": "code",
   "execution_count": 1,
   "id": "40045fe9-271a-4267-ab01-0ff428375a20",
   "metadata": {},
   "outputs": [
    {
     "name": "stdout",
     "output_type": "stream",
     "text": [
      "Requirement already satisfied: py7zr in /Users/Alexx/opt/anaconda3/lib/python3.9/site-packages (0.18.9)\n",
      "Requirement already satisfied: brotli>=1.0.9 in /Users/Alexx/opt/anaconda3/lib/python3.9/site-packages (from py7zr) (1.0.9)\n",
      "Requirement already satisfied: pyppmd<0.19.0,>=0.18.1 in /Users/Alexx/opt/anaconda3/lib/python3.9/site-packages (from py7zr) (0.18.2)\n",
      "Requirement already satisfied: texttable in /Users/Alexx/opt/anaconda3/lib/python3.9/site-packages (from py7zr) (1.6.4)\n",
      "Requirement already satisfied: multivolumefile>=0.2.3 in /Users/Alexx/opt/anaconda3/lib/python3.9/site-packages (from py7zr) (0.2.3)\n",
      "Requirement already satisfied: pyzstd>=0.14.4 in /Users/Alexx/opt/anaconda3/lib/python3.9/site-packages (from py7zr) (0.15.2)\n",
      "Requirement already satisfied: psutil in /Users/Alexx/opt/anaconda3/lib/python3.9/site-packages (from py7zr) (5.8.0)\n",
      "Requirement already satisfied: pybcj>=0.6.0 in /Users/Alexx/opt/anaconda3/lib/python3.9/site-packages (from py7zr) (0.6.0)\n",
      "Requirement already satisfied: zipfile-deflate64>=0.2.0 in /Users/Alexx/opt/anaconda3/lib/python3.9/site-packages (from py7zr) (0.2.0)\n",
      "Requirement already satisfied: pycryptodomex>=3.6.6 in /Users/Alexx/opt/anaconda3/lib/python3.9/site-packages (from py7zr) (3.14.1)\n"
     ]
    }
   ],
   "source": [
    "#!pip install py7zr"
   ]
  },
  {
   "cell_type": "code",
   "execution_count": 3,
   "id": "063fbd96-d2dd-4002-9872-16f039bfab88",
   "metadata": {},
   "outputs": [],
   "source": [
    "!py7zr x Входная_информация.7z"
   ]
  },
  {
   "cell_type": "code",
   "execution_count": null,
   "id": "f11f83c4-38b2-40db-b932-d7b98888dd70",
   "metadata": {},
   "outputs": [],
   "source": []
  },
  {
   "cell_type": "code",
   "execution_count": 161,
   "id": "0251d9e9-6741-4e5f-a8d0-db55e7a6f44a",
   "metadata": {},
   "outputs": [],
   "source": [
    "import os\n",
    "import pandas as pd"
   ]
  },
  {
   "cell_type": "markdown",
   "id": "f7924091-0772-4673-9695-eb13b6b12d22",
   "metadata": {},
   "source": [
    "# Реализация"
   ]
  },
  {
   "cell_type": "markdown",
   "id": "b70da123-3157-44b9-a7a5-15eb127716be",
   "metadata": {},
   "source": [
    "## Функция для парсинга файла"
   ]
  },
  {
   "cell_type": "code",
   "execution_count": 48,
   "id": "3a0c0797-f328-451c-9306-b0a4f96afd82",
   "metadata": {},
   "outputs": [],
   "source": [
    "def parser(lines):\n",
    "    res_list = []\n",
    "    data = {}\n",
    "    flag = 0\n",
    "    if len(lines) == 0:\n",
    "        return data\n",
    "    for line in lines:\n",
    "        if line == 'КонецФайла':\n",
    "            return res_list\n",
    "        if line == 'СекцияДокумент=Платежное поручение\\n':\n",
    "            flag = 1\n",
    "        if flag == 0:\n",
    "            continue\n",
    "        else:\n",
    "            if line == 'КонецДокумента\\n':\n",
    "                flag = 0\n",
    "                res_list.append(data)\n",
    "                continue\n",
    "            key, value = line.split('=')\n",
    "            data[key] = value.replace('\\n', '')\n",
    "        \n",
    "                "
   ]
  },
  {
   "cell_type": "markdown",
   "id": "4a1590fe-cab7-4492-bf90-4db087380cdb",
   "metadata": {},
   "source": [
    "## Функция для преобразования форматов данных"
   ]
  },
  {
   "cell_type": "code",
   "execution_count": 93,
   "id": "aabc0676-e788-4617-ae62-3c8fc5625911",
   "metadata": {},
   "outputs": [],
   "source": [
    "def prepare_data(df):\n",
    "    try:\n",
    "        df['Номер'] = df['Номер'].astype('int')\n",
    "        df['Сумма'] = df['Сумма'].astype('float')\n",
    "        df['ПлательщикСчет'] = df['ПлательщикСчет'].apply(lambda x: int(x))\n",
    "        return df\n",
    "    except:\n",
    "        print('Failed to convert types')\n",
    "        return df\n",
    "\n",
    "        "
   ]
  },
  {
   "cell_type": "markdown",
   "id": "64a7181f-6f3d-48d7-bee7-e7bf113b1853",
   "metadata": {},
   "source": [
    "## Функция для создания таблицы из данных"
   ]
  },
  {
   "cell_type": "code",
   "execution_count": 142,
   "id": "de0b9a2e-31f2-423d-9466-8bb924800815",
   "metadata": {},
   "outputs": [],
   "source": [
    "def parse_n_filecreate(filename):\n",
    "    with open(filename, \"r\", encoding=\"windows-1251\") as f:\n",
    "        print(filename)\n",
    "        lines = f.readlines()\n",
    "        data = parser(lines)\n",
    "        df = pd.DataFrame(data)\n",
    "        df = prepare_data(df)\n",
    "        return df"
   ]
  },
  {
   "cell_type": "markdown",
   "id": "28e92b8c-0e76-47a0-afcd-08822e2b2910",
   "metadata": {},
   "source": [
    "## Финальная функия - на вход путь до папки с входными данными, создает excel файл"
   ]
  },
  {
   "cell_type": "code",
   "execution_count": 168,
   "id": "3cfb4f4c-e304-40d0-9f64-7ffa2957ebed",
   "metadata": {},
   "outputs": [],
   "source": [
    "def task1(file_path = './'):\n",
    "    df = pd.DataFrame()\n",
    "    for filename in os.listdir(file_path):\n",
    "        try:\n",
    "            filename = os.path.join(file_path, filename)\n",
    "            df = pd.concat([df, parse_n_filecreate(filename)])\n",
    "        except:\n",
    "            continue\n",
    "    dir_path = os.path.join('results')\n",
    "    if not os.path.exists(dir_path):\n",
    "        os.makedirs(dir_path)\n",
    "    df.to_excel('./results/Платежные_поручения.xlsx')"
   ]
  },
  {
   "cell_type": "code",
   "execution_count": 169,
   "id": "009ee627-0065-497e-bd89-341c5cfdf0e1",
   "metadata": {},
   "outputs": [
    {
     "name": "stdout",
     "output_type": "stream",
     "text": [
      "./Входная информация/Задание 2 - входная информация/IDES Банковская выписка 26-Copy1.06.2017.txt\n",
      "./Входная информация/Задание 2 - входная информация/IDES Банковская выписка 26.06.2017.txt\n"
     ]
    }
   ],
   "source": [
    "task1('./Входная информация/Задание 2 - входная информация')"
   ]
  },
  {
   "cell_type": "code",
   "execution_count": null,
   "id": "ce6c50ac-6004-401c-87fb-cc31108b7a33",
   "metadata": {},
   "outputs": [],
   "source": []
  }
 ],
 "metadata": {
  "kernelspec": {
   "display_name": "Python 3 (ipykernel)",
   "language": "python",
   "name": "python3"
  },
  "language_info": {
   "codemirror_mode": {
    "name": "ipython",
    "version": 3
   },
   "file_extension": ".py",
   "mimetype": "text/x-python",
   "name": "python",
   "nbconvert_exporter": "python",
   "pygments_lexer": "ipython3",
   "version": "3.9.7"
  }
 },
 "nbformat": 4,
 "nbformat_minor": 5
}
